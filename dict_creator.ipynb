{
 "cells": [
  {
   "cell_type": "code",
   "execution_count": 1,
   "id": "e2dacadf-ee05-4781-9090-0cf4bb12e17e",
   "metadata": {},
   "outputs": [],
   "source": [
    "import numpy as np\n",
    "import pandas as pd\n",
    "import pickle"
   ]
  },
  {
   "cell_type": "code",
   "execution_count": 2,
   "id": "7916a77f-4fbf-4da2-ab4c-260e5e445be1",
   "metadata": {},
   "outputs": [],
   "source": [
    "phytos = ['C. polylepis', 'Pavlova sp.',\n",
    "          'F. pinnata', 'T. rotula', 'H. triquetra',\n",
    "          'K. rotundum', 'G. theta', 'R. lens', 'D. tertiolecta1', \n",
    "          'M. pusilla', 'S. elongatus', 'A. marina']"
   ]
  },
  {
   "cell_type": "code",
   "execution_count": 3,
   "id": "e8af442f-4d1a-41d0-a599-9cd2f11a63f7",
   "metadata": {},
   "outputs": [
    {
     "data": {
      "text/plain": [
       "12"
      ]
     },
     "execution_count": 3,
     "metadata": {},
     "output_type": "execute_result"
    }
   ],
   "source": [
    "len(phytos)"
   ]
  },
  {
   "cell_type": "code",
   "execution_count": 4,
   "id": "6d57253d-a2c0-4e19-a84c-acf75742e992",
   "metadata": {},
   "outputs": [],
   "source": [
    "data_dict = {}"
   ]
  },
  {
   "cell_type": "code",
   "execution_count": 5,
   "id": "d079f77a-fb42-4baa-a1d1-09eb3f088638",
   "metadata": {
    "tags": []
   },
   "outputs": [],
   "source": [
    "count = 0\n",
    "name = 0\n",
    "for p in phytos:\n",
    "    if count%3 == 0:\n",
    "        name = name+1\n",
    "        data_dict[name] = []\n",
    "        data_dict[name].append(p)\n",
    "    else:\n",
    "        data_dict[name].append(p)\n",
    "    count+=1"
   ]
  },
  {
   "cell_type": "code",
   "execution_count": 6,
   "id": "e5e53d9b-bff7-458a-a563-24ff149d21c5",
   "metadata": {},
   "outputs": [
    {
     "name": "stdout",
     "output_type": "stream",
     "text": [
      "dict_keys([1, 2, 3, 4])\n"
     ]
    }
   ],
   "source": [
    "print(data_dict.keys())"
   ]
  },
  {
   "cell_type": "code",
   "execution_count": 7,
   "id": "75d80354-bde2-4b67-9925-14f329bcf822",
   "metadata": {},
   "outputs": [
    {
     "data": {
      "text/plain": [
       "4"
      ]
     },
     "execution_count": 7,
     "metadata": {},
     "output_type": "execute_result"
    }
   ],
   "source": [
    "len(data_dict.keys())"
   ]
  },
  {
   "cell_type": "code",
   "execution_count": 8,
   "id": "d76a094e-d874-47d3-97d4-6b29567d08a4",
   "metadata": {},
   "outputs": [
    {
     "name": "stdout",
     "output_type": "stream",
     "text": [
      "On node 1 are processed: ['C. polylepis', 'Pavlova sp.', 'F. pinnata']\n",
      "On node 2 are processed: ['T. rotula', 'H. triquetra', 'K. rotundum']\n",
      "On node 3 are processed: ['G. theta', 'R. lens', 'D. tertiolecta1']\n",
      "On node 4 are processed: ['M. pusilla', 'S. elongatus', 'A. marina']\n"
     ]
    }
   ],
   "source": [
    "for key in data_dict.keys():\n",
    "    print('On node {} are processed: {}'.format(key, data_dict[key]))"
   ]
  },
  {
   "cell_type": "code",
   "execution_count": 9,
   "id": "2b4fbad7-017d-473a-8fe1-8f98794ccd69",
   "metadata": {},
   "outputs": [],
   "source": [
    "with open('phyto_dict.pkl', 'wb') as picklefile:\n",
    "    pickle.dump(data_dict, picklefile)"
   ]
  },
  {
   "cell_type": "code",
   "execution_count": null,
   "id": "40976868-4595-4e7b-aa01-67525ff02c15",
   "metadata": {},
   "outputs": [],
   "source": []
  }
 ],
 "metadata": {
  "kernelspec": {
   "display_name": "Python 3 (ipykernel)",
   "language": "python",
   "name": "python3"
  },
  "language_info": {
   "codemirror_mode": {
    "name": "ipython",
    "version": 3
   },
   "file_extension": ".py",
   "mimetype": "text/x-python",
   "name": "python",
   "nbconvert_exporter": "python",
   "pygments_lexer": "ipython3",
   "version": "3.10.4"
  }
 },
 "nbformat": 4,
 "nbformat_minor": 5
}
