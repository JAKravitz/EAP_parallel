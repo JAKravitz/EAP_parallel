{
 "cells": [
  {
   "cell_type": "code",
   "execution_count": 9,
   "id": "1dce45a1-54cb-4fcc-ae95-f247ab74ab7c",
   "metadata": {},
   "outputs": [
    {
     "name": "stdout",
     "output_type": "stream",
     "text": [
      "running build\n",
      "running config_cc\n",
      "INFO: unifing config_cc, config, build_clib, build_ext, build commands --compiler options\n",
      "running config_fc\n",
      "INFO: unifing config_fc, config, build_clib, build_ext, build commands --fcompiler options\n",
      "running build_src\n",
      "INFO: build_src\n",
      "INFO: building extension \"Dmmex\" sources\n",
      "INFO: f2py options: []\n",
      "INFO: f2py:> /var/tmp/pbs.14819525.pbspl1.nas.nasa.gov/tmppvvujkip/src.linux-x86_64-3.10/Dmmexmodule.c\n",
      "creating /var/tmp/pbs.14819525.pbspl1.nas.nasa.gov/tmppvvujkip/src.linux-x86_64-3.10\n",
      "Reading fortran codes...\n",
      "\tReading file '/var/tmp/pbs.14819525.pbspl1.nas.nasa.gov/tmpc4pe4e2e.f' (format:fix,strict)\n",
      "Post-processing...\n",
      "\tBlock: Dmmex\n",
      "\t\t\tBlock: dmilay\n",
      "\t\t\tBlock: errmsg\n",
      "\t\t\tBlock: wrtbad\n",
      "\t\t\tBlock: wrtdim\n",
      "Post-processing (stage 2)...\n",
      "Building modules...\n",
      "    Building module \"Dmmex\"...\n",
      "        Constructing wrapper function \"dmilay\"...\n",
      "          qext,qsca,qbs,gqsc,m1,m2,s21,d21 = dmilay(rcore,rshell,wvno,rindsh,rindco,mu,maxang,[numang])\n",
      "        Constructing wrapper function \"errmsg\"...\n",
      "          errmsg(messag,fatal)\n",
      "\t\tCreating wrapper for Fortran function \"wrtbad\"(\"wrtbad\")...\n",
      "        Constructing wrapper function \"wrtbad\"...\n",
      "          wrtbad = wrtbad(varnam)\n",
      "\t\tCreating wrapper for Fortran function \"wrtdim\"(\"wrtdim\")...\n",
      "        Constructing wrapper function \"wrtdim\"...\n",
      "          wrtdim = wrtdim(dimnam,minval)\n",
      "    Wrote C/API module \"Dmmex\" to file \"/var/tmp/pbs.14819525.pbspl1.nas.nasa.gov/tmppvvujkip/src.linux-x86_64-3.10/Dmmexmodule.c\"\n",
      "    Fortran 77 wrappers are saved to \"/var/tmp/pbs.14819525.pbspl1.nas.nasa.gov/tmppvvujkip/src.linux-x86_64-3.10/Dmmex-f2pywrappers.f\"\n",
      "INFO:   adding '/var/tmp/pbs.14819525.pbspl1.nas.nasa.gov/tmppvvujkip/src.linux-x86_64-3.10/fortranobject.c' to sources.\n",
      "INFO:   adding '/var/tmp/pbs.14819525.pbspl1.nas.nasa.gov/tmppvvujkip/src.linux-x86_64-3.10' to include_dirs.\n",
      "copying /swbuild/analytix/tools/miniconda3_220407/envs/tf2_9/lib/python3.10/site-packages/numpy/f2py/src/fortranobject.c -> /var/tmp/pbs.14819525.pbspl1.nas.nasa.gov/tmppvvujkip/src.linux-x86_64-3.10\n",
      "copying /swbuild/analytix/tools/miniconda3_220407/envs/tf2_9/lib/python3.10/site-packages/numpy/f2py/src/fortranobject.h -> /var/tmp/pbs.14819525.pbspl1.nas.nasa.gov/tmppvvujkip/src.linux-x86_64-3.10\n",
      "INFO:   adding '/var/tmp/pbs.14819525.pbspl1.nas.nasa.gov/tmppvvujkip/src.linux-x86_64-3.10/Dmmex-f2pywrappers.f' to sources.\n",
      "INFO: build_src: building npy-pkg config files\n",
      "running build_ext\n",
      "INFO: customize UnixCCompiler\n",
      "INFO: customize UnixCCompiler using build_ext\n",
      "INFO: get_default_fcompiler: matching types: '['arm', 'gnu95', 'intel', 'lahey', 'pg', 'nv', 'absoft', 'nag', 'vast', 'compaq', 'intele', 'intelem', 'gnu', 'g95', 'pathf95', 'nagfor', 'fujitsu']'\n",
      "INFO: customize ArmFlangCompiler\n",
      "WARN: Could not locate executable armflang\n",
      "INFO: customize Gnu95FCompiler\n",
      "INFO: Found executable /usr/bin/gfortran\n",
      "INFO: customize Gnu95FCompiler\n",
      "INFO: customize Gnu95FCompiler using build_ext\n",
      "INFO: building 'Dmmex' extension\n",
      "INFO: compiling C sources\n",
      "INFO: C compiler: gcc -pthread -B /swbuild/analytix/tools/miniconda3_220407/envs/tf2_9/compiler_compat -Wno-unused-result -Wsign-compare -DNDEBUG -g -fwrapv -O2 -Wall -fPIC -O2 -isystem /swbuild/analytix/tools/miniconda3_220407/envs/tf2_9/include -fPIC -O2 -isystem /swbuild/analytix/tools/miniconda3_220407/envs/tf2_9/include -fPIC\n",
      "\n",
      "creating /var/tmp/pbs.14819525.pbspl1.nas.nasa.gov/tmppvvujkip/var\n",
      "creating /var/tmp/pbs.14819525.pbspl1.nas.nasa.gov/tmppvvujkip/var/tmp\n",
      "creating /var/tmp/pbs.14819525.pbspl1.nas.nasa.gov/tmppvvujkip/var/tmp/pbs.14819525.pbspl1.nas.nasa.gov\n",
      "creating /var/tmp/pbs.14819525.pbspl1.nas.nasa.gov/tmppvvujkip/var/tmp/pbs.14819525.pbspl1.nas.nasa.gov/tmppvvujkip\n",
      "creating /var/tmp/pbs.14819525.pbspl1.nas.nasa.gov/tmppvvujkip/var/tmp/pbs.14819525.pbspl1.nas.nasa.gov/tmppvvujkip/src.linux-x86_64-3.10\n",
      "INFO: compile options: '-DNPY_DISABLE_OPTIMIZATION=1 -I/var/tmp/pbs.14819525.pbspl1.nas.nasa.gov/tmppvvujkip/src.linux-x86_64-3.10 -I/swbuild/analytix/tools/miniconda3_220407/envs/tf2_9/lib/python3.10/site-packages/numpy/core/include -I/swbuild/analytix/tools/miniconda3_220407/envs/tf2_9/include/python3.10 -c'\n",
      "INFO: gcc: /var/tmp/pbs.14819525.pbspl1.nas.nasa.gov/tmppvvujkip/src.linux-x86_64-3.10/Dmmexmodule.c\n",
      "INFO: gcc: /var/tmp/pbs.14819525.pbspl1.nas.nasa.gov/tmppvvujkip/src.linux-x86_64-3.10/fortranobject.c\n",
      "INFO: compiling Fortran sources\n",
      "INFO: Fortran f77 compiler: /usr/bin/gfortran -Wall -g -ffixed-form -fno-second-underscore -fPIC -O3 -funroll-loops\n",
      "Fortran f90 compiler: /usr/bin/gfortran -Wall -g -fno-second-underscore -fPIC -O3 -funroll-loops\n",
      "Fortran fix compiler: /usr/bin/gfortran -Wall -g -ffixed-form -fno-second-underscore -Wall -g -fno-second-underscore -fPIC -O3 -funroll-loops\n",
      "INFO: compile options: '-I/var/tmp/pbs.14819525.pbspl1.nas.nasa.gov/tmppvvujkip/src.linux-x86_64-3.10 -I/swbuild/analytix/tools/miniconda3_220407/envs/tf2_9/lib/python3.10/site-packages/numpy/core/include -I/swbuild/analytix/tools/miniconda3_220407/envs/tf2_9/include/python3.10 -c'\n",
      "INFO: gfortran:f77: /var/tmp/pbs.14819525.pbspl1.nas.nasa.gov/tmpc4pe4e2e.f\n",
      "INFO: gfortran:f77: /var/tmp/pbs.14819525.pbspl1.nas.nasa.gov/tmppvvujkip/src.linux-x86_64-3.10/Dmmex-f2pywrappers.f\n",
      "INFO: /usr/bin/gfortran -Wall -g -Wall -g -shared /var/tmp/pbs.14819525.pbspl1.nas.nasa.gov/tmppvvujkip/var/tmp/pbs.14819525.pbspl1.nas.nasa.gov/tmppvvujkip/src.linux-x86_64-3.10/Dmmexmodule.o /var/tmp/pbs.14819525.pbspl1.nas.nasa.gov/tmppvvujkip/var/tmp/pbs.14819525.pbspl1.nas.nasa.gov/tmppvvujkip/src.linux-x86_64-3.10/fortranobject.o /var/tmp/pbs.14819525.pbspl1.nas.nasa.gov/tmppvvujkip/var/tmp/pbs.14819525.pbspl1.nas.nasa.gov/tmpc4pe4e2e.o /var/tmp/pbs.14819525.pbspl1.nas.nasa.gov/tmppvvujkip/var/tmp/pbs.14819525.pbspl1.nas.nasa.gov/tmppvvujkip/src.linux-x86_64-3.10/Dmmex-f2pywrappers.o -L/usr/lib/gcc/x86_64-redhat-linux/4.8.5 -L/usr/lib/gcc/x86_64-redhat-linux/4.8.5 -lgfortran -o ./Dmmex.cpython-310-x86_64-linux-gnu.so\n",
      "\n"
     ]
    },
    {
     "ename": "ImportError",
     "evalue": "attempted relative import with no known parent package",
     "output_type": "error",
     "traceback": [
      "\u001b[0;31m---------------------------------------------------------------------------\u001b[0m",
      "\u001b[0;31mImportError\u001b[0m                               Traceback (most recent call last)",
      "Input \u001b[0;32mIn [9]\u001b[0m, in \u001b[0;36m<cell line: 5>\u001b[0;34m()\u001b[0m\n\u001b[1;32m      3\u001b[0m sourcecode \u001b[38;5;241m=\u001b[39m sourcefile\u001b[38;5;241m.\u001b[39mread()\n\u001b[1;32m      4\u001b[0m f2py\u001b[38;5;241m.\u001b[39mcompile(sourcecode, modulename\u001b[38;5;241m=\u001b[39m\u001b[38;5;124m'\u001b[39m\u001b[38;5;124mDmmex\u001b[39m\u001b[38;5;124m'\u001b[39m)\n\u001b[0;32m----> 5\u001b[0m \u001b[38;5;28;01mfrom\u001b[39;00m \u001b[38;5;21;01m.\u001b[39;00m\u001b[38;5;21;01mDmmex\u001b[39;00m \u001b[38;5;28;01mimport\u001b[39;00m DMiLay\n",
      "\u001b[0;31mImportError\u001b[0m: attempted relative import with no known parent package"
     ]
    }
   ],
   "source": [
    "from numpy import f2py\n",
    "sourcefile = open('Dmmex_R14B_4.f','rb')\n",
    "sourcecode = sourcefile.read()\n",
    "f2py.compile(sourcecode, modulename='Dmmex_R14B_4')\n",
    "import Dmmex_R14B_4"
   ]
  },
  {
   "cell_type": "code",
   "execution_count": 7,
   "id": "d48df4fa-561d-40a6-ab23-b3fe739399a1",
   "metadata": {},
   "outputs": [
    {
     "data": {
      "text/plain": [
       "b'C Combined gateway/computational routine for dimilay\\nC\\nC Call from Matlab using:\\nC [Qc,Qb,g,Qbs,m1,m2,s21,d21]\\nC \\t=dmlaymex(rcore,rshell,wvno,rishell,ricore,angles,numang,maxang)\\nC----------------------------------------------------------------------------------------------------------------    \\nC Gateway routine for dimilay\\nC    \\n\\nc **********************************************************************\\nc\\t\\t\\t\\tend of gateway routine\\nc **********************************************************************\\n      SUBROUTINE DMiLay( RCORE, RSHELL, WVNO, RINDSH, RINDCO, MU,\\n     &                   NUMANG, QEXT, QSCA, QBS, GQSC, \\n     &                   M1, M2, S21, D21, MAXANG )\\n\\nc **********************************************************************\\nc    DOUBLE PRECISION version of MieLay, which computes electromagnetic \\nc    scattering by a stratified sphere, i.e. a particle consisting of a \\nc    spherical core surrounded by a spherical shell.  The surrounding \\nc    medium is assumed to have refractive index unity.  The formulas, \\nc    manipulated to avoid the ill-conditioning that plagued earlier \\nc    formulations, were published in:\\n\\nc        Toon, O. and T. Ackerman, Applied Optics 20, 3657 (1981)\\n\\nc    Further documentation, including definitons of input and output\\nc    arguments, is inside the single precision version of this program\\nc    (SUBROUTINE MieLay, available by anonymous ftp from \\nc    climate.gsfc.nasa.gov in directory pub/wiscombe).\\n\\nc    It is recommended to use this DOUBLE PRECISION version for IEEE \\nc    arithmetic (32-bit floating point) computers, just to be safe.\\nc    If computer time is critical, back-to-back tests with the single\\nc    precision version should be done for ranges of radii and refractive\\nc    index relevant to your particular problem, before adopting the\\nc    single precision version.  This version is also recommended for\\nc    cases of large size parameter (bigger than 10 or so) and/or large \\nc    imaginary refractive index (bigger than 1 or so) and also whenever \\nc    overflows or strange behavior are encountered in running the\\nc    single precision version.  Sometimes the bigger exponent range in\\nc    DOUBLE PRECISION is as important as the added precision.\\n\\nc    This version is designed to be interchangeable with the single\\nc    precision version:  all the floating-point input arguments are\\nc    still single precision.  Only the name of the routine has been\\nc    changed to prevent confusion (and it is strongly urged not to\\nc    change it to MieLay for the same reason).\\n\\nc **********************************************************************\\n\\nc     .. Parameters ..\\n\\n      INTEGER*4   MXANG\\n      INTEGER*4   LL\\n      DOUBLE PRECISION ZERO, ONE, TWO\\n      PARAMETER ( MXANG = 1000, LL = 2000, ZERO = 0.0D0, ONE = 1.0D0,\\n     &            TWO = 2.0D0 )\\nc     ..\\nc     .. Scalar Arguments ..\\n\\n      INTEGER*4, INTENT(IN) :: MAXANG, NUMANG\\n      REAL*8, INTENT(OUT) :: GQSC, QBS, QEXT, QSCA\\n      REAL*8, INTENT(IN) :: RCORE, RSHELL, WVNO\\n      COMPLEX*16, INTENT(IN) :: RINDCO, RINDSH\\nc     ..\\nc     .. Array Arguments ..\\n\\n\\n      REAL*8, INTENT(IN) :: MU( NUMANG )\\n      REAL*8, INTENT(OUT) :: D21( MAXANG, 2 ), \\n     &          M1( MAXANG, 2 ), M2( MAXANG, 2 ), S21( MAXANG, 2 )\\nc     ..\\nc     .. Local Scalars ..\\n\\n      LOGICAL   INPERR, PASS1\\n      INTEGER   J, K, M, N, NMX1, NMX2, NN\\n\\n      DOUBLE PRECISION  AA, AIM, AM1IM, AM1RE, ARE, BB, BIM, BM1IM,\\n     &                  BM1RE, BRE, CC, COSX1, COSX4, DD, DENOM, \\n     &                  DGQSC, DQEXT, DQSCA, E2Y1,\\n     &                  EY1, EY1MY4, EY1PY4, EY4, FOURPI, PINUM,\\n     &                  RMM, RX, SINX1, SINX4, TOLER, X1, X4,\\n     &                  XCORE, XSHELL, Y1, Y4\\n\\n      DOUBLE COMPLEX  AC, ACOE, ACOEM1, BC, BCOE, BCOEM1, CI, CZERO,\\n     &                DH1, DH2, DH4, DUMMY, DUMSQ, K1, K2, K3, \\n     &                P24H21, P24H24, RRFX, SBACK, WM1\\nc     ..\\nc     .. Local Arrays ..\\n\\n      DOUBLE PRECISION  PI( MXANG, 3 ), SI2THT( MXANG ), T( 5 ),\\n     &                  TA( 4 ), TAU( MXANG, 3 )\\n\\n      DOUBLE COMPLEX  ACAP( LL ), S1( MXANG, 2 ), S2( MXANG, 2 ),\\n     &                U( 8 ), W( 3, LL ), WFN( 2 ), Z( 4 )\\nc     ..\\nc     .. External Functions ..\\n\\n      LOGICAL   WRTBAD, WRTDIM\\n      EXTERNAL  WRTBAD, WRTDIM\\nc     ..\\nc     .. External Subroutines ..\\n\\n      EXTERNAL  ERRMSG\\nc     ..\\nc     .. Intrinsic Functions ..\\n\\n      INTRINSIC ABS, DIMAG, ASIN, DCMPLX, COS, EXP, MOD, DBLE, SIN\\nc     ..\\nc     .. Save statement ..\\n\\n      SAVE  PINUM, PASS1\\nc     ..\\nc     .. Data statements ..\\n\\n      DATA      PASS1 / .True. / , TOLER / 1.D-6 / ,\\n     &          CZERO / ( 0.D0, 0.D0 ) / , CI / ( 0.D0, 1.D0 ) /\\nc     ..\\n\\n      IF( PASS1 ) THEN\\n\\n         PINUM  = TWO*ASIN( ONE )\\n         PASS1  = .False.\\n\\n      END IF\\n\\n      XSHELL = RSHELL*WVNO\\n      XCORE  = RCORE*WVNO\\n      T( 1 ) = XSHELL*ABS( RINDSH )\\n      NMX1   = 1500\\n      NMX2   = 1350\\nc      NMX1   = 5.5D0*T( 1 )\\nc      NMX2   = 5*T( 1 )\\nc      NMX1   = 1.1D0*T( 1 )\\nc      NMX2   = T( 1 )\\n\\nc      write(*,*)nmx1\\nc      write(*,*)nmx2\\n\\nc     Original - if nmx<150 then ....\\n\\nc      IF (NMX1.LE.150) THEN\\n\\nc         NMX1   = 150\\nc         NMX2   = 135\\n\\nc      write(*,*)nmx1\\nc      write(*,*)nmx2\\n\\n\\nc      END IF\\n\\nc                        ** Check input arguments for gross errors\\n      INPERR = .False.\\n\\n      IF( WVNO.LE.0.0 ) INPERR = WRTBAD( \\'WVNO\\' )\\n\\n      IF( RSHELL.LE.0.0 ) INPERR = WRTBAD( \\'Rshell\\' )\\n\\n      IF( RCORE.LE.0.0 .OR. RCORE.GT.RSHELL ) \\n     &    INPERR = WRTBAD( \\'Rcore\\' )\\n\\n      IF( REAL(RINDSH).LE.0.0 .OR. AIMAG(RINDSH).GT.0.0 )\\n     &    INPERR = WRTBAD( \\'RindSh\\' )\\n\\n      IF( REAL(RINDCO).LE.0.0 .OR. AIMAG(RINDCO).GT.0.0 ) \\n     &    INPERR = WRTBAD( \\'RindCo\\' )\\n\\n      IF( NUMANG.LT.0 ) INPERR = WRTBAD( \\'NumAng\\' )\\n\\n      IF( NUMANG.GT.MXANG ) INPERR = WRTDIM( \\'MxAng\\', NUMANG )\\n\\n      IF( NUMANG.GT.MAXANG ) INPERR = WRTDIM( \\'MaxAng\\', NUMANG )\\n\\n      IF( NMX1 + 1 .GT. LL ) INPERR = WRTDIM( \\'LL\\', NMX1 + 1 )\\n\\n      DO 10 J = 1, NUMANG\\n         IF( MU(J).LT.- TOLER .OR. MU(J).GT. 1.0+TOLER )\\n     &        INPERR = WRTBAD( \\'MU\\' )\\n   10 CONTINUE\\n\\n      IF( INPERR ) CALL ERRMSG(\\n     &    \\'MIELAY--Input argument errors.  Aborting...\\', .True. )\\n\\n      K1     = RINDCO*WVNO\\n      K2     = RINDSH*WVNO\\n      K3     = DCMPLX( WVNO )\\n      Z( 1 ) = RINDSH*XSHELL\\n      Z( 2 ) = XSHELL\\n      Z( 3 ) = RINDCO*XCORE\\n      Z( 4 ) = RINDSH*XCORE\\n      X1     =  DBLE( Z(1) )\\n      Y1     = DIMAG( Z(1) )\\n      X4     =  DBLE( Z(4) )\\n      Y4     = DIMAG( Z(4) )\\n      RX     = ONE / XSHELL\\n\\nc                                ** Down-recurrence for A function\\n      ACAP( NMX1 + 1 ) = CZERO\\n      DO 20 M = 1, 3\\n         W( M, NMX1 + 1 ) = CZERO\\n   20 CONTINUE\\n\\n      RRFX  = ONE / ( RINDSH*XSHELL)\\n      DO 40 NN = NMX1, 1, - 1\\n\\n         ACAP( NN ) = ( ( NN + 1)*RRFX ) -\\n     &                ONE / ( ( (NN + 1)*RRFX) + ACAP( NN + 1) )\\n\\n         DO 30 M = 1, 3\\n\\n            W( M, NN ) = ( ( NN + 1) / Z( M + 1) ) - \\n     &                   ONE / ( ( (NN + 1)/Z(M + 1)) + W( M, NN + 1) )\\n\\n   30    CONTINUE\\n\\n   40 CONTINUE\\n\\n\\n      DO 50 J = 1, NUMANG\\n\\n         SI2THT( J ) = ONE - MU( J )**2\\n         PI( J, 1 ) = ZERO\\n         PI( J, 2 ) = ONE\\n         TAU( J, 1 ) = ZERO\\n         TAU( J, 2 ) = MU( J )\\n\\n   50 CONTINUE\\n\\nc                          ** Initialization of homogeneous sphere\\n\\n      T( 1 ) = COS( XSHELL )\\n      T( 2 ) = SIN( XSHELL )\\n      WM1      = DCMPLX( T(1), - T(2) )\\n      WFN( 1 ) = DCMPLX( T(2), T(1) )\\n      TA( 1 ) = T( 2 )\\n      TA( 2 ) = T( 1 )\\n      WFN( 2 ) = RX*WFN( 1 ) - WM1\\n      TA( 3 ) =  DBLE( WFN(2) )\\n      TA( 4 ) = DIMAG( WFN(2) )\\n\\nc                      ** Initialization procedure for stratified sphere\\n      N      = 1\\n      SINX1  = SIN( X1 )\\n      SINX4  = SIN( X4 )\\n      COSX1  = COS( X1 )\\n      COSX4  = COS( X4 )\\n      EY1    = EXP( Y1 )\\n      E2Y1   = EY1**2\\n      EY4    = EXP( Y4 )\\n      EY1MY4 = EXP( Y1 - Y4 )\\n      EY1PY4 = EY1*EY4\\n      AA     = SINX4*( EY1PY4 + EY1MY4 )\\n      BB     = COSX4*( EY1PY4 - EY1MY4 )\\n      CC     = SINX1*( E2Y1 + ONE )\\n      DD     = COSX1*( E2Y1 - ONE )\\n      DENOM  = ONE + E2Y1*( 4.0D0*SINX1**2 - TWO + E2Y1 )\\n      DUMMY  = DCMPLX( ( AA*CC + BB*DD) / DENOM,\\n     &                 ( BB*CC - AA*DD) / DENOM )\\n      DUMMY  = DUMMY*( ACAP(N) + N / Z(1) ) / ( W(3, N) + N / Z(4) )\\n      DUMSQ  = DUMMY**2\\n\\n      P24H24 = 0.5D0 + DCMPLX( SINX4**2 - 0.5D0, COSX4*SINX4 )*EY4**2\\n      P24H21 = 0.5D0*DCMPLX( SINX1*SINX4 - COSX1*COSX4,\\n     &                       SINX1*COSX4 + COSX1*SINX4 )*EY1PY4\\n     &       + 0.5D0*DCMPLX( SINX1*SINX4 + COSX1*COSX4,\\n     &                     - SINX1*COSX4 + COSX1*SINX4 )*EY1MY4\\n      DH1    = Z( 1 ) / ( ONE + CI*Z( 1) ) - ONE / Z( 1 )\\n      DH2    = Z( 2 ) / ( ONE + CI*Z( 2) ) - ONE / Z( 2 )\\n      DH4    = Z( 4 ) / ( ONE + CI*Z( 4) ) - ONE / Z( 4 )\\n      P24H24 = P24H24 / ( ( DH4 + N/Z(4))*( W(3, N) + N/Z(4)) )\\n      P24H21 = P24H21 / ( ( DH1 + N/Z(1))*( W(3, N) + N/Z(4)) )\\n\\n      U( 1 ) = K3*ACAP( N ) - K2*W( 1, N )\\n      U( 2 ) = K3*ACAP( N ) - K2*DH2\\n      U( 3 ) = K2*ACAP( N ) - K3*W( 1, N )\\n      U( 4 ) = K2*ACAP( N ) - K3*DH2\\n      U( 5 ) = K1*W( 3, N ) - K2*W( 2, N )\\n      U( 6 ) = K2*W( 3, N ) - K1*W( 2, N )\\n      U( 7 ) = - CI*( DUMMY*P24H21 - P24H24 )\\n      U( 8 ) = TA( 3 ) / WFN( 2 )\\n\\n      ACOE  = U( 8 )*( U(1)*U(5)*U(7) + K1*U(1) - DUMSQ*K3*U(5) ) /\\n     &               ( U(2)*U(5)*U(7) + K1*U(2) - DUMSQ*K3*U(5) )\\n\\n      BCOE  = U( 8 )*( U(3)*U(6)*U(7) + K2*U(3) - DUMSQ*K2*U(6) ) /\\n     &               ( U(4)*U(6)*U(7) + K2*U(4) - DUMSQ*K2*U(6) )\\n\\n      ACOEM1 = ACOE\\n      BCOEM1 = BCOE\\n      ARE    =  DBLE( ACOE )\\n      AIM    = DIMAG( ACOE )\\n      BRE    =  DBLE( BCOE )\\n      BIM    = DIMAG( BCOE )\\n\\n      DQEXT  = 3.D0*( ARE + BRE )\\n      DQSCA  = 3.D0*( ARE**2 + AIM**2 + BRE**2 + BIM**2 )\\n      DGQSC  = ZERO\\n      SBACK  = 3.D0*( ACOE - BCOE )\\n      RMM    = ONE\\n\\n      AC  = 1.5D0*ACOE\\n      BC  = 1.5D0*BCOE\\n      DO 60 J = 1, NUMANG\\n\\n         S1( J, 1 ) = AC*PI( J, 2 ) + BC*TAU( J, 2 )\\n         S1( J, 2 ) = AC*PI( J, 2 ) - BC*TAU( J, 2 )\\n         S2( J, 1 ) = BC*PI( J, 2 ) + AC*TAU( J, 2 )\\n         S2( J, 2 ) = BC*PI( J, 2 ) - AC*TAU( J, 2 )\\n\\n   60 CONTINUE\\n\\nc ***************** Start of Mie summing loop ******************\\n\\n      N  = 2\\n   70 CONTINUE\\nc                              ** Recurrences for functions little-pi,\\nc                                 little-tau of Mie theory\\n      T( 1 ) = 2*N - 1\\n      T( 2 ) = N - 1\\n      DO 80 J = 1, NUMANG\\n\\n         PI( J, 3 ) = ( T( 1)*PI( J, 2)*MU( J) - N*PI( J, 1) ) / T( 2 )\\n\\n         TAU( J, 3 ) = MU( J )*( PI( J, 3) - PI( J, 1) ) -\\n     &                 T( 1 )*SI2THT( J )*PI( J, 2 ) + TAU( J, 1 )\\n\\n   80 CONTINUE\\n\\nc                                 ** Here set up homogeneous sphere\\n      WM1    = WFN( 1 )\\n      WFN( 1 ) = WFN( 2 )\\n      WFN( 2 ) = T( 1 )*RX*WFN( 1 ) - WM1\\n      TA( 1 ) =  DBLE( WFN( 1) )\\n      TA( 2 ) = DIMAG( WFN( 1) )\\n      TA( 3 ) =  DBLE( WFN( 2) )\\n      TA( 4 ) = DIMAG( WFN( 2) )\\n\\nc                                 ** Here set up stratified sphere\\n\\n      DH1    = - N / Z( 1 ) + ONE / ( N / Z( 1) - DH1 )\\n      DH2    = - N / Z( 2 ) + ONE / ( N / Z( 2) - DH2 )\\n      DH4    = - N / Z( 4 ) + ONE / ( N / Z( 4) - DH4 )\\n      P24H24 = P24H24 / ( ( DH4 + N/Z(4))*( W(3, N) + N/Z(4)) )\\n      P24H21 = P24H21 / ( ( DH1 + N/Z(1))*( W(3, N) + N/Z(4)) )\\n      DUMMY  = DUMMY*( ACAP(N) + N / Z(1) ) / ( W(3, N) + N / Z(4) )\\n      DUMSQ  = DUMMY**2\\n\\n      U( 1 ) = K3*ACAP( N ) - K2*W( 1, N )\\n      U( 2 ) = K3*ACAP( N ) - K2*DH2\\n      U( 3 ) = K2*ACAP( N ) - K3*W( 1, N )\\n      U( 4 ) = K2*ACAP( N ) - K3*DH2\\n      U( 5 ) = K1*W( 3, N ) - K2*W( 2, N )\\n      U( 6 ) = K2*W( 3, N ) - K1*W( 2, N )\\n      U( 7 ) = - CI*( DUMMY*P24H21 - P24H24 )\\n      U( 8 ) = TA( 3 ) / WFN( 2 )\\n\\n      ACOE  = U( 8 )*( U(1)*U(5)*U(7) + K1*U(1) - DUMSQ*K3*U(5) ) /\\n     &               ( U(2)*U(5)*U(7) + K1*U(2) - DUMSQ*K3*U(5) )\\n\\n      BCOE  = U( 8 )*( U(3)*U(6)*U(7) + K2*U(3) - DUMSQ*K2*U(6) ) /\\n     &               ( U(4)*U(6)*U(7) + K2*U(4) - DUMSQ*K2*U(6) )\\n      ARE  =  DBLE( ACOE )\\n      AIM  = DIMAG( ACOE )\\n      BRE  =  DBLE( BCOE )\\n      BIM  = DIMAG( BCOE )\\n\\nc                           ** Increment sums for efficiency factors\\n\\n      AM1RE  =  DBLE( ACOEM1 )\\n      AM1IM  = DIMAG( ACOEM1 )\\n      BM1RE  =  DBLE( BCOEM1 )\\n      BM1IM  = DIMAG( BCOEM1 )\\n      T( 4 ) = (2*N - ONE) / ( N*(N - ONE) )\\n      T( 2 ) = (N - ONE)*(N + ONE) / N\\n      DGQSC  = DGQSC + T( 2 )*( AM1RE*ARE + AM1IM*AIM +\\n     &                          BM1RE*BRE + BM1IM*BIM ) +\\n     &                 T( 4 )*( AM1RE*BM1RE + AM1IM*BM1IM )\\n\\n      T( 3 )  = 2*N + 1\\n      DQEXT   = DQEXT + T( 3 )*( ARE + BRE )\\n      T( 4 )  = ARE**2 + AIM**2 + BRE**2 + BIM**2\\n      DQSCA   = DQSCA + T( 3 )*T( 4 )\\n      RMM     = - RMM\\n      SBACK  = SBACK + T( 3 ) * RMM *( ACOE - BCOE )\\n\\n      T( 2 ) = N*( N + 1 )\\n      T( 1 ) = T( 3 ) / T( 2 )\\n\\n      AC  = T( 1 )*ACOE\\n      BC  = T( 1 )*BCOE\\n      DO 90 J = 1, NUMANG\\n         S1( J, 1 ) = S1( J, 1 ) + AC*PI( J, 3 ) + BC*TAU( J, 3 )\\n         S2( J, 1 ) = S2( J, 1 ) + BC*PI( J, 3 ) + AC*TAU( J, 3 )\\n   90 CONTINUE\\n\\nc                               ** Scattering matrix elements for\\nc                                  supplements of 0-90 degree scattering\\nc                                  angles submitted by user\\n      IF( MOD(N, 2).EQ.0 ) THEN\\n\\n         DO 100 J = 1, NUMANG\\n            S1( J, 2 ) = S1( J, 2 ) - AC*PI( J, 3 ) + BC*TAU( J, 3 )\\n            S2( J, 2 ) = S2( J, 2 ) - BC*PI( J, 3 ) + AC*TAU( J, 3 )\\n  100    CONTINUE\\n\\n      ELSE\\n\\n         DO 110 J = 1, NUMANG\\n            S1( J, 2 ) = S1( J, 2 ) + AC*PI( J, 3 ) - BC*TAU( J, 3 )\\n            S2( J, 2 ) = S2( J, 2 ) + BC*PI( J, 3 ) - AC*TAU( J, 3 )\\n  110    CONTINUE\\n\\n      END IF\\n\\nc                                      ** Test for convergence of sums\\n      IF( T(4).GE.1.0D-11 .AND. .NOT. (ISNAN(T(4)))) THEN\\n\\n         N  = N + 1\\n\\nc         OPEN(11,FILE=\"N.LOG\",ACCESS=\\'SEQUENTIAL\\',STATUS=\\'OLD\\')\\nc\\t   WRITE(11,*) n,T(4)\\nc\\t   CLOSE (11, STATUS = \\'SAVE\\')\\n\\n         DO 120 J = 1, NUMANG\\n\\n            PI( J, 1 ) = PI( J, 2 )\\n            PI( J, 2 ) = PI( J, 3 )\\n            TAU( J, 1 ) = TAU( J, 2 )\\n            TAU( J, 2 ) = TAU( J, 3 )\\n\\n  120    CONTINUE\\n\\n         ACOEM1 = ACOE\\n         BCOEM1 = BCOE\\n\\n         GO TO 70\\n\\n      \\nCC      ELSEIF( N.GT.NMX2 ) THEN\\n\\nCC\\t         CALL mexErrMsgTxt(\\'Convergence Error\\')\\n\\nc         IF( N.GT.NMX2 ) CALL ERRMSG(\\nc     &       \\'Dimensions for W,ACAP not enough. Suggest\\'//\\nc     &       \\' get detailed output, modify routine\\', .True. )\\n\\n\\n      END IF\\n\\nc ***************** End of summing loop ******************\\n\\nc                            ** Transform complex scattering amplitudes\\nc                               into elements of real scattering matrix\\n\\n      DO 140 J = 1, NUMANG\\n\\n         DO 130 K = 1, 2\\n\\n            M1( J, K ) = DBLE( S1(J, K) )**2 + DIMAG( S1(J, K) )**2\\n            M2( J, K ) = DBLE( S2(J, K) )**2 + DIMAG( S2(J, K) )**2\\n            S21( J, K ) = DBLE(  S1(J, K) )*DBLE(  S2(J, K) ) +\\n     &                    DIMAG( S1(J, K) )*DIMAG( S2(J, K) )\\n            D21( J, K ) = DIMAG( S1(J, K) )*DBLE( S2(J, K) ) -\\n     &                    DIMAG( S2(J, K) )*DBLE( S1(J, K) )\\n\\n  130    CONTINUE\\n\\n  140 CONTINUE\\n\\n\\n      T( 1 ) = TWO*RX**2\\n      QEXT   = T( 1 )*DQEXT\\n      QSCA   = T( 1 )*DQSCA\\n      GQSC   = TWO*T( 1 )*DGQSC\\n      SBACK  = 0.5*SBACK\\n      QBS    = ( DBLE(SBACK)**2 + DIMAG(SBACK)**2 ) / (PINUM*XSHELL**2)\\n\\n      END\\n\\n      SUBROUTINE ErrMsg( MESSAG, FATAL )\\n\\nc        Print out a warning or error message;  abort if error\\nc        after making symbolic dump (machine-specific)\\n\\nc       Provenance:  the 3 error-handlers ErrMsg, WrtBad, WrtDim are\\nc                    borrowed from MIEV, the Wiscombe Mie program\\n\\nc     .. Scalar Arguments ..\\n\\n      CHARACTER MESSAG*( * )\\n      LOGICAL   FATAL\\nc     ..\\nc     .. Local Scalars ..\\n\\n      LOGICAL   MSGLIM\\n      INTEGER   MAXMSG, NUMMSG\\nc     ..\\nc     .. External Subroutines ..\\n\\nc cccc EXTERNAL  SYMDUMP\\nc     ..\\nc     .. Save statement ..\\n\\n      SAVE      MAXMSG, NUMMSG, MSGLIM\\nc     ..\\nc     .. Data statements ..\\n\\n      DATA      NUMMSG / 0 / , MAXMSG / 100 / , MSGLIM / .FALSE. /\\nc     ..\\n\\n      IF( FATAL ) THEN\\n\\n         WRITE( *, \\'(//,2A,//)\\' ) \\' ****** ERROR *****  \\', MESSAG\\n\\nc                                 ** Example symbolic dump call for Cray\\nc cccc    CALL SYMDUMP( \\'-B -c3\\' )\\n\\n         STOP\\n\\n      END IF\\n\\n\\n      NUMMSG = NUMMSG + 1\\n\\n      IF( MSGLIM ) RETURN\\n\\n      IF( NUMMSG.LE.MAXMSG ) THEN\\n\\n         WRITE( *, \\'(/,2A,/)\\' ) \\' ****** WARNING *****  \\', MESSAG\\n\\n      ELSE\\n\\n         WRITE( *, \\'(//,A,//)\\' )\\n     &      \\' ****** TOO MANY WARNING MESSAGES --  \\' //\\n     &      \\'They will no longer be printed *******\\'\\n\\n         MSGLIM = .True.\\n\\n      END IF\\n\\n      END\\n\\n      LOGICAL FUNCTION WrtBad( VARNAM )\\n\\nc          Write names of erroneous variables and return \\'TRUE\\'\\n\\nc      INPUT :   VarNam = Name of erroneous variable to be written\\nc                         ( CHARACTER, any length )\\n\\nc     .. Scalar Arguments ..\\n\\n      CHARACTER VARNAM*( * )\\nc     ..\\nc     .. Local Scalars ..\\n\\n      INTEGER   MAXMSG, NUMMSG\\nc     ..\\nc     .. External Subroutines ..\\n\\n      EXTERNAL  ERRMSG\\nc     ..\\nc     .. Save statement ..\\n\\n      SAVE      NUMMSG, MAXMSG\\nc     ..\\nc     .. Data statements ..\\n\\n      DATA      NUMMSG / 0 / , MAXMSG / 50 /\\nc     ..\\n\\n      WRTBAD = .TRUE.\\n      NUMMSG = NUMMSG + 1\\n      WRITE( *, \\'(3A)\\' ) \\' ****  Input variable  \\', VARNAM,\\n     &   \\'  in error  ****\\'\\n\\n      IF( NUMMSG.EQ.MAXMSG ) CALL ERRMSG(\\n     &    \\'Too many input errors.  Aborting...\\', .TRUE. )\\n\\n      END\\n\\n      LOGICAL FUNCTION WrtDim( DIMNAM, MINVAL )\\n\\nc          Write name of too-small symbolic dimension and\\nc          the value it should be increased to;  return \\'TRUE\\'\\n\\nc      INPUT :  DimNam = Name of symbolic dimension which is too small\\nc                        ( CHARACTER, any length )\\nc               Minval = Value to which that dimension should be\\nc                        increased (at least)\\n\\nc     .. Scalar Arguments ..\\n\\n      CHARACTER DIMNAM*( * )\\n      INTEGER   MINVAL\\nc     ..\\n\\n      WRITE( *, \\'(3A,I7)\\' ) \\' ****  Symbolic dimension  \\',\\n     &   DIMNAM, \\'  should be increased to at least \\', MINVAL\\n\\n      WRTDIM = .TRUE.\\n\\n      END\\n'"
      ]
     },
     "execution_count": 7,
     "metadata": {},
     "output_type": "execute_result"
    }
   ],
   "source": [
    "sourcecode"
   ]
  },
  {
   "cell_type": "code",
   "execution_count": null,
   "id": "65778388-8dc6-4a4d-9678-6aa6af6c5a28",
   "metadata": {},
   "outputs": [],
   "source": []
  }
 ],
 "metadata": {
  "kernelspec": {
   "display_name": "Python 3 (ipykernel)",
   "language": "python",
   "name": "python3"
  },
  "language_info": {
   "codemirror_mode": {
    "name": "ipython",
    "version": 3
   },
   "file_extension": ".py",
   "mimetype": "text/x-python",
   "name": "python",
   "nbconvert_exporter": "python",
   "pygments_lexer": "ipython3",
   "version": "3.10.4"
  }
 },
 "nbformat": 4,
 "nbformat_minor": 5
}
