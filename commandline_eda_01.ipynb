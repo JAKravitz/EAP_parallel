{
 "cells": [
  {
   "cell_type": "code",
   "execution_count": 1,
   "id": "c3f9b8e8-3ba4-4302-b4c8-cbf8e09a8f35",
   "metadata": {},
   "outputs": [],
   "source": [
    "import pickle\n",
    "import pandas as pd\n",
    "import numpy as np"
   ]
  },
  {
   "cell_type": "code",
   "execution_count": 3,
   "id": "350e6f84-a17b-47fe-82ae-9069c89a2861",
   "metadata": {},
   "outputs": [],
   "source": [
    "with open('/Users/jakravit/Desktop/phytodata_pbs_01.dat', 'rb') as picklefile:\n",
    "    phytodata = pickle.load(picklefile)"
   ]
  },
  {
   "cell_type": "code",
   "execution_count": 4,
   "id": "45299e8d-9ff6-425d-8dd0-53adcb504b6e",
   "metadata": {},
   "outputs": [
    {
     "name": "stdout",
     "output_type": "stream",
     "text": [
      "1: D. tertiolecta1\n",
      "2: G. theta\n"
     ]
    }
   ],
   "source": [
    "count=1\n",
    "for key in phytodata.keys():\n",
    "    print('{}:'.format(count), key)\n",
    "    count+=1"
   ]
  },
  {
   "cell_type": "code",
   "execution_count": 5,
   "id": "4d7aa8f6-221a-41af-bf0f-e9932f8a7d87",
   "metadata": {},
   "outputs": [
    {
     "name": "stdout",
     "output_type": "stream",
     "text": [
      "Time to run D. tertiolecta1 is 1074.25 seconds.\n",
      "Time to run G. theta is 923.96 seconds.\n",
      "Total run time is seconds: 1998.21\n"
     ]
    }
   ],
   "source": [
    "tt = 0\n",
    "for key in phytodata.keys():\n",
    "    print('Time to run {} is {:.2f} seconds.'.format(key, phytodata[key]['time']))\n",
    "    tt = tt + phytodata[key]['time']\n",
    "print('Total run time is seconds: {:.2f}'.format(tt))"
   ]
  },
  {
   "cell_type": "code",
   "execution_count": 7,
   "id": "33132fc0-e914-45c1-bce4-bbd2ae93e17b",
   "metadata": {},
   "outputs": [],
   "source": [
    "theta = phytodata['G. theta']"
   ]
  },
  {
   "cell_type": "code",
   "execution_count": 9,
   "id": "c7121aa4-3785-4b96-8ec2-7269320f469a",
   "metadata": {},
   "outputs": [],
   "source": [
    "r1 = theta['1.04_1.08_0.10_0.60_2_101']"
   ]
  },
  {
   "cell_type": "code",
   "execution_count": 11,
   "id": "dfb3dde0-c761-4ae4-82a4-1413374bcf3b",
   "metadata": {},
   "outputs": [
    {
     "data": {
      "text/plain": [
       "dict_keys(['Qc', 'Sigma_c', 'cstar', 'Qb', 'Sigma_b', 'bstar', 'Qa', 'Sigma_a', 'astar', 'Qbb', 'Sigma_bb', 'bbstar', 'Deff', 'ncore', 'nshell', 'Vs', 'Veff', 'ci', 'psd', 'class', 'PFT1', 'PFT2', 'size_class', 'lambda'])"
      ]
     },
     "execution_count": 11,
     "metadata": {},
     "output_type": "execute_result"
    }
   ],
   "source": [
    "r1.keys()"
   ]
  },
  {
   "cell_type": "code",
   "execution_count": null,
   "id": "901a9265-211b-4819-b849-001fb96d5d63",
   "metadata": {},
   "outputs": [],
   "source": []
  },
  {
   "cell_type": "code",
   "execution_count": null,
   "id": "ffd54ba6-a248-4bc6-899d-8718f6a0e77e",
   "metadata": {
    "scrolled": true,
    "tags": []
   },
   "outputs": [],
   "source": [
    " "
   ]
  },
  {
   "cell_type": "code",
   "execution_count": null,
   "id": "589e0aab-058f-4877-b15a-f1ad7045e8b0",
   "metadata": {},
   "outputs": [],
   "source": []
  },
  {
   "cell_type": "code",
   "execution_count": null,
   "id": "c5c4bd87-f7ba-4fb5-8e6e-ba74cbdc816a",
   "metadata": {},
   "outputs": [],
   "source": []
  },
  {
   "cell_type": "code",
   "execution_count": null,
   "id": "3992a888-54b8-4900-a9f1-df4c09b12265",
   "metadata": {},
   "outputs": [],
   "source": []
  },
  {
   "cell_type": "code",
   "execution_count": null,
   "id": "59bb0b02-871a-4d34-b8e3-72503e522191",
   "metadata": {},
   "outputs": [],
   "source": []
  }
 ],
 "metadata": {
  "kernelspec": {
   "display_name": "Python 3 (ipykernel)",
   "language": "python",
   "name": "python3"
  },
  "language_info": {
   "codemirror_mode": {
    "name": "ipython",
    "version": 3
   },
   "file_extension": ".py",
   "mimetype": "text/x-python",
   "name": "python",
   "nbconvert_exporter": "python",
   "pygments_lexer": "ipython3",
   "version": "3.8.8"
  }
 },
 "nbformat": 4,
 "nbformat_minor": 5
}
